{
 "cells": [
  {
   "cell_type": "code",
   "execution_count": 55,
   "metadata": {},
   "outputs": [],
   "source": [
    "# code to generate supplementary figures in `longitudinal_consistency` subfolder"
   ]
  },
  {
   "cell_type": "code",
   "execution_count": 1,
   "metadata": {},
   "outputs": [],
   "source": [
    "import pandas as pd\n",
    "\n",
    "import seaborn as sns\n",
    "import matplotlib.pyplot as plt"
   ]
  },
  {
   "cell_type": "code",
   "execution_count": null,
   "metadata": {},
   "outputs": [],
   "source": []
  },
  {
   "cell_type": "code",
   "execution_count": 2,
   "metadata": {},
   "outputs": [],
   "source": [
    "plt.rcParams['font.family'] = 'Arial'"
   ]
  },
  {
   "cell_type": "code",
   "execution_count": 58,
   "metadata": {},
   "outputs": [],
   "source": [
    "DATA_DIR = \"../demo_data/\"\n",
    "MUTATIONS_FILE = \"111e6e61e1_all_mutations.tsv\"\n",
    "SEG_CN_FILE = \"best.seg.ucn\"\n",
    "\n",
    "INPUT_DIR = \"../demo_inputs/\"\n",
    "MUT_CN_FILE = \"111e6e61e1.decifer.input\"\n",
    "TREE_FILE = \"111e6e61e1_stable.tree\"\n",
    "\n",
    "OUT_DIR = \"../demo_outputs/\""
   ]
  },
  {
   "cell_type": "code",
   "execution_count": 59,
   "metadata": {},
   "outputs": [],
   "source": [
    "# summary table for multi-region longitiudinal bulk sequenced samples from patient 4355\n",
    "mutations_table = pd.read_csv(f\"{DATA_DIR}{MUTATIONS_FILE}\", sep=\"\\t\")\n",
    "hatchet_table = pd.read_csv(f\"{INPUT_DIR}{MUT_CN_FILE}\", sep=\"\\t\")"
   ]
  },
  {
   "cell_type": "markdown",
   "metadata": {},
   "source": []
  },
  {
   "cell_type": "code",
   "execution_count": 60,
   "metadata": {},
   "outputs": [],
   "source": [
    "# note: samples `7919980Met_FrTu_January_09_2020` and `7919980Met-2_FrTu_January_09_2020` were renamed to \n",
    "# `111e6e61e1Met_FrTu_January_09_2020` and `111e6e61e1Met-2_FrTu_January_09_2020`, respectively.\n",
    "\n",
    "rename = {\n",
    "    \"7919980Met_FrTu_January_09_2020\": \"111e6e61e1Met_FrTu_January_09_2020\",\n",
    "    \"7919980Met-2_FrTu_January_09_2020\": \"111e6e61e1Met-2_FrTu_January_09_2020\"\n",
    "}\n",
    "\n",
    "mutations_table.DNA_sample_name = mutations_table.DNA_sample_name.apply(lambda x: rename[x] if x in rename.keys() else x)"
   ]
  },
  {
   "cell_type": "code",
   "execution_count": 61,
   "metadata": {},
   "outputs": [],
   "source": [
    "samples = mutations_table.DNA_sample_name.unique()\n",
    "\n",
    "samples\n",
    "\n",
    "samples_namelookup = {}\n",
    "samples_datelookup = {}"
   ]
  },
  {
   "cell_type": "code",
   "execution_count": 62,
   "metadata": {},
   "outputs": [],
   "source": [
    "samples_treatpoint = {\n",
    "    'February 2019': -212,\n",
    "    'January 2020': 81,\n",
    "    'August 2020': 342,\n",
    "    'March 2021': 523,\n",
    "    'July 2021': 523\n",
    "}"
   ]
  },
  {
   "cell_type": "code",
   "execution_count": 63,
   "metadata": {},
   "outputs": [],
   "source": [
    "for s in list(samples):\n",
    "    #print(s)\n",
    "\n",
    "    sample_info = s.split('_')\n",
    "    \n",
    "    samples_namelookup[s] = \"_\".join(sample_info[:-3])\n",
    "    samples_datelookup[s] = f\"{sample_info[-3]} {sample_info[-1]}\""
   ]
  },
  {
   "cell_type": "code",
   "execution_count": 64,
   "metadata": {},
   "outputs": [],
   "source": [
    "tumour_purity = hatchet_table.set_index(\"sample\")[\"normal_prop\"] \\\n",
    "                             .drop_duplicates() \\\n",
    "                             .apply(lambda x: round(1-x,2)) \\\n",
    "                             .to_dict()\n",
    "\n",
    "#tumour_purity"
   ]
  },
  {
   "cell_type": "code",
   "execution_count": 65,
   "metadata": {},
   "outputs": [],
   "source": [
    "def get_summary(sample_name: str, hatchet_table):\n",
    "\n",
    "    temp = mutations_table[mutations_table.DNA_sample_name == sample_name]\n",
    "    temp = temp.drop_duplicates()\n",
    "\n",
    "    # to out\n",
    "    coverage = temp[[\"nreads_reference\",\"nreads_variant\"]].sum(axis=1).mean()\n",
    "    coverage = int(round(coverage, 0))\n",
    "\n",
    "    hatchet_table = hatchet_table[[\"mut_index\",\"sample\", \"var_reads\", \"normal_state\",\"tumor1_state\", \"tumor2_state\"]]\n",
    "    samplemuts = [m.replace(' ','_') for m in temp[\"Variant key\"].tolist()]\n",
    "\n",
    "    sample_hatchet = hatchet_table[(hatchet_table.mut_index.isin(samplemuts)) & (hatchet_table[\"sample\"] == sample_name)  & (hatchet_table[\"var_reads\"] > 0)]\n",
    "    sample_hatchet = sample_hatchet.drop([\"sample\", \"var_reads\"],axis=1).set_index(\"mut_index\")\n",
    "\n",
    "    cn_neutral = sample_hatchet.applymap(lambda x: x==\"1|1\").sum(axis=1) == 3 \n",
    "\n",
    "    a = len(sample_hatchet[cn_neutral].index.to_list())\n",
    "    b = len(sample_hatchet[~cn_neutral].index.to_list())\n",
    "\n",
    "    return coverage, a, b"
   ]
  },
  {
   "cell_type": "code",
   "execution_count": 66,
   "metadata": {},
   "outputs": [],
   "source": [
    "table_entries = {}\n",
    "\n",
    "for s in samples:\n",
    "\n",
    "    coverage, a, b = get_summary(s, hatchet_table)\n",
    "    name = samples_namelookup[s]\n",
    "    date = samples_datelookup[s]\n",
    "    tdate = samples_treatpoint[date]\n",
    "\n",
    "    purity = tumour_purity[s]\n",
    "\n",
    "    # print(name, coverage, a, b, purity, date, tdate)\n",
    "    table_entries[name] = {\n",
    "        'AVG. COVERAGE': coverage, \n",
    "        'MUTS (copy-number neutral)': a, \n",
    "        \"MUTS (copy-number aberrant)\": b, \n",
    "        \"TUMOUR PURITY\": purity, \n",
    "        \"SAMPLING TIME POINTS\": date,\n",
    "        \"PROGRESSION TIME POINT\": tdate\n",
    "    }\n",
    "    "
   ]
  },
  {
   "cell_type": "code",
   "execution_count": 67,
   "metadata": {},
   "outputs": [
    {
     "data": {
      "text/html": [
       "<div>\n",
       "<style scoped>\n",
       "    .dataframe tbody tr th:only-of-type {\n",
       "        vertical-align: middle;\n",
       "    }\n",
       "\n",
       "    .dataframe tbody tr th {\n",
       "        vertical-align: top;\n",
       "    }\n",
       "\n",
       "    .dataframe thead th {\n",
       "        text-align: right;\n",
       "    }\n",
       "</style>\n",
       "<table border=\"1\" class=\"dataframe\">\n",
       "  <thead>\n",
       "    <tr style=\"text-align: right;\">\n",
       "      <th></th>\n",
       "      <th>AVG. COVERAGE</th>\n",
       "      <th>MUTS (copy-number neutral)</th>\n",
       "      <th>MUTS (copy-number aberrant)</th>\n",
       "      <th>TUMOUR PURITY</th>\n",
       "      <th>SAMPLING TIME POINTS</th>\n",
       "      <th>PROGRESSION TIME POINT</th>\n",
       "    </tr>\n",
       "    <tr>\n",
       "      <th>SAMPLENAME</th>\n",
       "      <th></th>\n",
       "      <th></th>\n",
       "      <th></th>\n",
       "      <th></th>\n",
       "      <th></th>\n",
       "      <th></th>\n",
       "    </tr>\n",
       "  </thead>\n",
       "  <tbody>\n",
       "    <tr>\n",
       "      <th>4355-AMet-Frag12_FrTu</th>\n",
       "      <td>220</td>\n",
       "      <td>287</td>\n",
       "      <td>122</td>\n",
       "      <td>0.61</td>\n",
       "      <td>February 2019</td>\n",
       "      <td>-212</td>\n",
       "    </tr>\n",
       "    <tr>\n",
       "      <th>4355-BMet-Frag24_FrTu</th>\n",
       "      <td>177</td>\n",
       "      <td>264</td>\n",
       "      <td>125</td>\n",
       "      <td>0.52</td>\n",
       "      <td>February 2019</td>\n",
       "      <td>-212</td>\n",
       "    </tr>\n",
       "    <tr>\n",
       "      <th>4355-AMet-Frag6_FrTu</th>\n",
       "      <td>211</td>\n",
       "      <td>282</td>\n",
       "      <td>125</td>\n",
       "      <td>0.67</td>\n",
       "      <td>February 2019</td>\n",
       "      <td>-212</td>\n",
       "    </tr>\n",
       "    <tr>\n",
       "      <th>111e6e61e1Met_FrTu</th>\n",
       "      <td>219</td>\n",
       "      <td>276</td>\n",
       "      <td>120</td>\n",
       "      <td>0.27</td>\n",
       "      <td>January 2020</td>\n",
       "      <td>81</td>\n",
       "    </tr>\n",
       "    <tr>\n",
       "      <th>111e6e61e1Met-2_FrTu</th>\n",
       "      <td>227</td>\n",
       "      <td>267</td>\n",
       "      <td>124</td>\n",
       "      <td>0.39</td>\n",
       "      <td>January 2020</td>\n",
       "      <td>81</td>\n",
       "    </tr>\n",
       "    <tr>\n",
       "      <th>4417-2BMet_FrTu</th>\n",
       "      <td>247</td>\n",
       "      <td>302</td>\n",
       "      <td>147</td>\n",
       "      <td>0.67</td>\n",
       "      <td>August 2020</td>\n",
       "      <td>342</td>\n",
       "    </tr>\n",
       "    <tr>\n",
       "      <th>4417-1AMet_FrTu</th>\n",
       "      <td>183</td>\n",
       "      <td>301</td>\n",
       "      <td>129</td>\n",
       "      <td>0.67</td>\n",
       "      <td>August 2020</td>\n",
       "      <td>342</td>\n",
       "    </tr>\n",
       "    <tr>\n",
       "      <th>4435Org-001-P9_Org</th>\n",
       "      <td>264</td>\n",
       "      <td>322</td>\n",
       "      <td>136</td>\n",
       "      <td>0.99</td>\n",
       "      <td>July 2021</td>\n",
       "      <td>523</td>\n",
       "    </tr>\n",
       "    <tr>\n",
       "      <th>4443Met-T1-2_FrTu</th>\n",
       "      <td>248</td>\n",
       "      <td>287</td>\n",
       "      <td>130</td>\n",
       "      <td>0.53</td>\n",
       "      <td>July 2021</td>\n",
       "      <td>523</td>\n",
       "    </tr>\n",
       "    <tr>\n",
       "      <th>4443Met-T1-1_FrTu</th>\n",
       "      <td>234</td>\n",
       "      <td>282</td>\n",
       "      <td>133</td>\n",
       "      <td>0.47</td>\n",
       "      <td>July 2021</td>\n",
       "      <td>523</td>\n",
       "    </tr>\n",
       "    <tr>\n",
       "      <th>4443Met-T1-5_FrTu</th>\n",
       "      <td>248</td>\n",
       "      <td>283</td>\n",
       "      <td>130</td>\n",
       "      <td>0.51</td>\n",
       "      <td>July 2021</td>\n",
       "      <td>523</td>\n",
       "    </tr>\n",
       "    <tr>\n",
       "      <th>4443Met-T1-4_FrTu</th>\n",
       "      <td>271</td>\n",
       "      <td>284</td>\n",
       "      <td>132</td>\n",
       "      <td>0.62</td>\n",
       "      <td>July 2021</td>\n",
       "      <td>523</td>\n",
       "    </tr>\n",
       "    <tr>\n",
       "      <th>4443Met-T1-3_FrTu</th>\n",
       "      <td>241</td>\n",
       "      <td>287</td>\n",
       "      <td>138</td>\n",
       "      <td>0.49</td>\n",
       "      <td>July 2021</td>\n",
       "      <td>523</td>\n",
       "    </tr>\n",
       "    <tr>\n",
       "      <th>4443Met-T1-6_FrTu</th>\n",
       "      <td>217</td>\n",
       "      <td>274</td>\n",
       "      <td>126</td>\n",
       "      <td>0.59</td>\n",
       "      <td>July 2021</td>\n",
       "      <td>523</td>\n",
       "    </tr>\n",
       "    <tr>\n",
       "      <th>4435Org-001_Org</th>\n",
       "      <td>259</td>\n",
       "      <td>321</td>\n",
       "      <td>135</td>\n",
       "      <td>0.91</td>\n",
       "      <td>March 2021</td>\n",
       "      <td>523</td>\n",
       "    </tr>\n",
       "    <tr>\n",
       "      <th>4435-2Met_FrTu</th>\n",
       "      <td>222</td>\n",
       "      <td>319</td>\n",
       "      <td>141</td>\n",
       "      <td>0.7</td>\n",
       "      <td>March 2021</td>\n",
       "      <td>523</td>\n",
       "    </tr>\n",
       "    <tr>\n",
       "      <th>4435-3Met_FrTu</th>\n",
       "      <td>240</td>\n",
       "      <td>296</td>\n",
       "      <td>131</td>\n",
       "      <td>0.67</td>\n",
       "      <td>March 2021</td>\n",
       "      <td>523</td>\n",
       "    </tr>\n",
       "    <tr>\n",
       "      <th>4435-1Met_FrTu</th>\n",
       "      <td>156</td>\n",
       "      <td>326</td>\n",
       "      <td>141</td>\n",
       "      <td>0.72</td>\n",
       "      <td>March 2021</td>\n",
       "      <td>523</td>\n",
       "    </tr>\n",
       "  </tbody>\n",
       "</table>\n",
       "</div>"
      ],
      "text/plain": [
       "                      AVG. COVERAGE MUTS (copy-number neutral)  \\\n",
       "SAMPLENAME                                                       \n",
       "4355-AMet-Frag12_FrTu           220                        287   \n",
       "4355-BMet-Frag24_FrTu           177                        264   \n",
       "4355-AMet-Frag6_FrTu            211                        282   \n",
       "111e6e61e1Met_FrTu              219                        276   \n",
       "111e6e61e1Met-2_FrTu            227                        267   \n",
       "4417-2BMet_FrTu                 247                        302   \n",
       "4417-1AMet_FrTu                 183                        301   \n",
       "4435Org-001-P9_Org              264                        322   \n",
       "4443Met-T1-2_FrTu               248                        287   \n",
       "4443Met-T1-1_FrTu               234                        282   \n",
       "4443Met-T1-5_FrTu               248                        283   \n",
       "4443Met-T1-4_FrTu               271                        284   \n",
       "4443Met-T1-3_FrTu               241                        287   \n",
       "4443Met-T1-6_FrTu               217                        274   \n",
       "4435Org-001_Org                 259                        321   \n",
       "4435-2Met_FrTu                  222                        319   \n",
       "4435-3Met_FrTu                  240                        296   \n",
       "4435-1Met_FrTu                  156                        326   \n",
       "\n",
       "                      MUTS (copy-number aberrant) TUMOUR PURITY  \\\n",
       "SAMPLENAME                                                        \n",
       "4355-AMet-Frag12_FrTu                         122          0.61   \n",
       "4355-BMet-Frag24_FrTu                         125          0.52   \n",
       "4355-AMet-Frag6_FrTu                          125          0.67   \n",
       "111e6e61e1Met_FrTu                            120          0.27   \n",
       "111e6e61e1Met-2_FrTu                          124          0.39   \n",
       "4417-2BMet_FrTu                               147          0.67   \n",
       "4417-1AMet_FrTu                               129          0.67   \n",
       "4435Org-001-P9_Org                            136          0.99   \n",
       "4443Met-T1-2_FrTu                             130          0.53   \n",
       "4443Met-T1-1_FrTu                             133          0.47   \n",
       "4443Met-T1-5_FrTu                             130          0.51   \n",
       "4443Met-T1-4_FrTu                             132          0.62   \n",
       "4443Met-T1-3_FrTu                             138          0.49   \n",
       "4443Met-T1-6_FrTu                             126          0.59   \n",
       "4435Org-001_Org                               135          0.91   \n",
       "4435-2Met_FrTu                                141           0.7   \n",
       "4435-3Met_FrTu                                131          0.67   \n",
       "4435-1Met_FrTu                                141          0.72   \n",
       "\n",
       "                      SAMPLING TIME POINTS PROGRESSION TIME POINT  \n",
       "SAMPLENAME                                                         \n",
       "4355-AMet-Frag12_FrTu        February 2019                   -212  \n",
       "4355-BMet-Frag24_FrTu        February 2019                   -212  \n",
       "4355-AMet-Frag6_FrTu         February 2019                   -212  \n",
       "111e6e61e1Met_FrTu            January 2020                     81  \n",
       "111e6e61e1Met-2_FrTu          January 2020                     81  \n",
       "4417-2BMet_FrTu                August 2020                    342  \n",
       "4417-1AMet_FrTu                August 2020                    342  \n",
       "4435Org-001-P9_Org               July 2021                    523  \n",
       "4443Met-T1-2_FrTu                July 2021                    523  \n",
       "4443Met-T1-1_FrTu                July 2021                    523  \n",
       "4443Met-T1-5_FrTu                July 2021                    523  \n",
       "4443Met-T1-4_FrTu                July 2021                    523  \n",
       "4443Met-T1-3_FrTu                July 2021                    523  \n",
       "4443Met-T1-6_FrTu                July 2021                    523  \n",
       "4435Org-001_Org                 March 2021                    523  \n",
       "4435-2Met_FrTu                  March 2021                    523  \n",
       "4435-3Met_FrTu                  March 2021                    523  \n",
       "4435-1Met_FrTu                  March 2021                    523  "
      ]
     },
     "execution_count": 67,
     "metadata": {},
     "output_type": "execute_result"
    }
   ],
   "source": [
    "# sampling time points are given alongside relative to \"progression time points\" when clinical assessments were collected\n",
    "out_table_1 = pd.DataFrame(table_entries).T\n",
    "out_table_1 = out_table_1.sort_values(by=[\"PROGRESSION TIME POINT\",\"SAMPLING TIME POINTS\"], ascending=True)\n",
    "\n",
    "#out_table_1.to_csv(\"/Users/wuchh/Downloads/sample_summary.tsv\", sep=\"\\t\")\n",
    "out_table_1.index.name = \"SAMPLENAME\"\n",
    "out_table_1"
   ]
  },
  {
   "cell_type": "code",
   "execution_count": null,
   "metadata": {},
   "outputs": [],
   "source": []
  },
  {
   "cell_type": "code",
   "execution_count": 68,
   "metadata": {},
   "outputs": [],
   "source": [
    "dcf_table = pd.read_csv(\"/Users/wuchh/Documents/DETOPT/real_data/demo/demo_inputs/111e6e61e1_stable.inferred_freqs\", sep=\"\\t\").set_index(\"cell_id_x_mut_id\")"
   ]
  },
  {
   "cell_type": "code",
   "execution_count": 69,
   "metadata": {},
   "outputs": [],
   "source": [
    "dcf_table = dcf_table[[\n",
    "    '4355-AMet-Frag12_FrTu_February_04_2019',\n",
    "    '4355-AMet-Frag6_FrTu_February_04_2019',\n",
    "    '4355-BMet-Frag24_FrTu_February_04_2019',\n",
    "    '111e6e61e1Met_FrTu_January_09_2020',\n",
    "    '111e6e61e1Met-2_FrTu_January_09_2020', \n",
    "    '4417-2BMet_FrTu_August_04_2020',\n",
    "    '4417-1AMet_FrTu_August_04_2020', \n",
    "    '4435-2Met_FrTu_March_03_2021',\n",
    "    '4435-3Met_FrTu_March_03_2021', \n",
    "    '4435-1Met_FrTu_March_03_2021',\n",
    "    '4435Org-001_Org_March_25_2021',\n",
    "    '4435Org-001-P9_Org_July_23_2021',\n",
    "    '4443Met-T1-4_FrTu_July_21_2021', \n",
    "    '4443Met-T1-5_FrTu_July_21_2021', \n",
    "    '4443Met-T1-2_FrTu_July_21_2021',\n",
    "    '4443Met-T1-3_FrTu_July_21_2021', \n",
    "    '4443Met-T1-1_FrTu_July_21_2021', \n",
    "    '4443Met-T1-6_FrTu_July_21_2021'\n",
    "]]"
   ]
  },
  {
   "cell_type": "code",
   "execution_count": 70,
   "metadata": {},
   "outputs": [],
   "source": [
    "dcf_table.columns = [\"_\".join(i.split('_')[:2]) for i in dcf_table.columns]"
   ]
  },
  {
   "cell_type": "code",
   "execution_count": 71,
   "metadata": {},
   "outputs": [],
   "source": [
    "dcf_index = [1,0,6,2,5,18,4,14,26,11,7,28,25,9,17,12,15,8,23,16,3,10,22,21,19,20,13,27,24]"
   ]
  },
  {
   "cell_type": "code",
   "execution_count": 72,
   "metadata": {},
   "outputs": [],
   "source": [
    "dcf_table = dcf_table.reindex(dcf_index)"
   ]
  },
  {
   "cell_type": "code",
   "execution_count": 76,
   "metadata": {},
   "outputs": [],
   "source": [
    "dcf_table.to_csv(\"/Users/wuchh/Downloads/111e6e61e1_dcf_table.tsv\", sep=\"\\t\")"
   ]
  },
  {
   "cell_type": "code",
   "execution_count": 74,
   "metadata": {},
   "outputs": [
    {
     "data": {
      "image/png": "[encoded data removed]",
      "text/plain": [
       "<Figure size 700x1100 with 1 Axes>"
      ]
     },
     "metadata": {},
     "output_type": "display_data"
    }
   ],
   "source": [
    "plt.figure(figsize=(7, 11))\n",
    "\n",
    "sns.heatmap(dcf_table, cmap='rocket', vmin=0, vmax=1, cbar=False)\n",
    "\n",
    "for i in range(len(dcf_table)):\n",
    "    for j in range(len(dcf_table.columns)):\n",
    "        plt.text(j + 0.5, i + 0.5, f'{\"%.2f\" % round(dcf_table.iloc[i, j], 2)}', ha='center', va='center', color='white', fontsize=6)\n",
    "\n",
    "plt.gca().add_patch(plt.Rectangle((0,0),len(dcf_table.columns),len(dcf_table),linewidth=1,edgecolor='black',facecolor='none'))\n",
    "\n",
    "plt.xticks(rotation=270)\n",
    "\n",
    "#plt.title(\"111e6e61e1; Descendant Cell Fraction\", fontweight='bold')\n",
    "plt.xlabel(\"Sample\")\n",
    "plt.ylabel(\"Node (Subclone)\")\n",
    "\n",
    "plt.savefig(f\"/Users/wuchh/Downloads/111e6e61e1_dcf.png\", dpi=700, bbox_inches=\"tight\")"
   ]
  },
  {
   "cell_type": "code",
   "execution_count": null,
   "metadata": {},
   "outputs": [],
   "source": [
    "table2 = {}\n",
    "\n",
    "for subclone, row in dcf_table.iterrows():\n",
    "\n",
    "    samples_present = list(row[row > 0.05].index)\n",
    "\n",
    "    samples = [samples_namelookup[i] for i in samples_present]\n",
    "    dates = [samples_datelookup[i].split(' ')[-1] for i in samples_present]\n",
    "\n",
    "    table2[subclone] = {\n",
    "        'SUBCLONES PRESENT IN SAMPLES': \", \".join(samples),\n",
    "        \"TIME POINT SAMPLE OBTAINED (YEAR)\": \", \".join(dates)\n",
    "    }\n",
    "\n",
    "table_2_out = pd.DataFrame(table2).T.reset_index()\n",
    "table_2_out.columns = ['NODE_ID', 'SUBCLONES PRESENT IN SAMPLES', 'TIME POINT SAMPLE OBTAINED (YEAR)']\n",
    "table_2_out.to_csv(\"/Users/wuchh/Downloads/sample_subclone_presence.tsv\", sep=\"\\t\", index=False)"
   ]
  },
  {
   "cell_type": "code",
   "execution_count": null,
   "metadata": {},
   "outputs": [],
   "source": []
  },
  {
   "cell_type": "code",
   "execution_count": 95,
   "metadata": {},
   "outputs": [],
   "source": [
    "OUTFILE = \"/Users/wuchh/Downloads/detopt-outfile2-4355.txt\""
   ]
  },
  {
   "cell_type": "code",
   "execution_count": 96,
   "metadata": {},
   "outputs": [],
   "source": [
    "outfile = pd.read_csv(OUTFILE,sep=\"\\t\", header=None)\n",
    "outfile.columns = [\"MUT_ID\", \"NODE_ID\", \"A_iv\", \"B_iv\", \"A_v\", \"B_v\"]"
   ]
  },
  {
   "cell_type": "code",
   "execution_count": 97,
   "metadata": {},
   "outputs": [],
   "source": [
    "filt_muts = \"10:71690272-71690272_G>-\",\"11:34154645-34154645_C>-\",\"12:112036777-112036782_TGCTGT>-\",\"12:7045892-7045912_CAGCAGCAGCAGCAGCAGCAG>-\",\"12:8377419-8377419_G>-\",\"16:814979-814991_GCTCCCGAGGGGG>-\",\"19:36002362-36002412_CTGCTGCCACCACTGCTGCCGCCACTGCTGCCGCCACTGCTGCTGCCACTG>-\",\"19:45574993-45575007_GGCGGTTGAGCTTAC>-\",\"19:7680191-7680210_GAGGGAGGAGGCCGCGAGGT>-\",\"1:26608812-26608835_CCAGGACAGGGACTGGGGCCGGGA>-\",\"22:21343966-21344002_GAGGAGGTGAGGGGCGTGGGGAGCCAGGGCGCAGGTA>-\",\"2:20101537-20101537_C>-\",\"6:30653494-30653496_TGC>-\",\"6:90385898-90385898_C>-\",\"7:151874148-151874148_T>-\",\"19:1236047-1236049_GTG>-\",\"19:4338664-4338666_CTT>-\",\"20:1187656-1187656_C>-\",\"17:38508282-38508282_A>-\",\"17:7579359-7579359_G>-\",\"11:12316387-12316389_CTA>-\",\"1:12887218-12887218_->TGT\",\"9:90746970-90746970_G>-\",\"1:12887222-12887227_TGCTCT>-\",\"19:50155362-50155367_CCGCTC>-\",\"3:183493744-183493746_GGA>-\",\"1:1684347-1684347_->CCT\""
   ]
  },
  {
   "cell_type": "code",
   "execution_count": 98,
   "metadata": {},
   "outputs": [],
   "source": [
    "outfile = outfile[~outfile.MUT_ID.isin(filt_muts)]"
   ]
  },
  {
   "cell_type": "code",
   "execution_count": 99,
   "metadata": {},
   "outputs": [
    {
     "data": {
      "text/plain": [
       "139"
      ]
     },
     "execution_count": 99,
     "metadata": {},
     "output_type": "execute_result"
    }
   ],
   "source": [
    "len(outfile.MUT_ID.unique())"
   ]
  },
  {
   "cell_type": "code",
   "execution_count": 100,
   "metadata": {},
   "outputs": [],
   "source": [
    "muts = outfile.MUT_ID.unique()"
   ]
  },
  {
   "cell_type": "code",
   "execution_count": 107,
   "metadata": {},
   "outputs": [],
   "source": [
    "collector_iv = [0] * len(muts)\n",
    "collector_v = [0] * len(muts)\n",
    "collector_all = [0] * len(muts)\n",
    "\n",
    "for i, mut in enumerate(muts):\n",
    "    #print(mut)\n",
    "\n",
    "    a = outfile[outfile.MUT_ID == mut]\n",
    "    b = a.set_index(\"NODE_ID\").drop(\"MUT_ID\", axis=1)\n",
    "    collector_iv[i] = b.iloc[:,:2].astype(str).agg(\",\".join, axis=1)\n",
    "    collector_v[i] = b.iloc[:,2:].astype(str).agg(\",\".join, axis=1)\n",
    "    collector_all[i] = b.astype(str).agg(\",\".join, axis=1)"
   ]
  },
  {
   "cell_type": "code",
   "execution_count": 108,
   "metadata": {},
   "outputs": [],
   "source": [
    "outtable = pd.concat(collector_iv, axis=1)\n",
    "outtable.columns = muts"
   ]
  },
  {
   "cell_type": "code",
   "execution_count": 109,
   "metadata": {},
   "outputs": [],
   "source": [
    "outtable.T.to_csv(\"/Users/wuchh/Downloads/mutant_copies_A_B.tsv\", sep=\"\\t\")"
   ]
  },
  {
   "cell_type": "code",
   "execution_count": 110,
   "metadata": {},
   "outputs": [],
   "source": [
    "outtable2 = pd.concat(collector_v, axis=1)\n",
    "outtable2.columns = muts"
   ]
  },
  {
   "cell_type": "code",
   "execution_count": 111,
   "metadata": {},
   "outputs": [],
   "source": [
    "outtable2.T.to_csv(\"/Users/wuchh/Downloads/all_copies_A_B.tsv\", sep=\"\\t\")"
   ]
  },
  {
   "cell_type": "code",
   "execution_count": 112,
   "metadata": {},
   "outputs": [],
   "source": [
    "outtable3 = pd.concat(collector_all, axis=1)\n",
    "outtable3.columns = muts\n",
    "\n",
    "outtable3.T.to_csv(\"/Users/wuchh/Downloads/A_iv_B_iv_A_v_B_v.tsv\", sep=\"\\t\")"
   ]
  }
 ],
 "metadata": {
  "kernelspec": {
   "display_name": "detopt-local-update",
   "language": "python",
   "name": "python3"
  },
  "language_info": {
   "codemirror_mode": {
    "name": "ipython",
    "version": 3
   },
   "file_extension": ".py",
   "mimetype": "text/x-python",
   "name": "python",
   "nbconvert_exporter": "python",
   "pygments_lexer": "ipython3",
   "version": "3.10.12"
  }
 },
 "nbformat": 4,
 "nbformat_minor": 2
}
